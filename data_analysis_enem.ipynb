{
  "nbformat": 4,
  "nbformat_minor": 0,
  "metadata": {
    "colab": {
      "name": "Enem.ipynb",
      "provenance": [],
      "collapsed_sections": [],
      "authorship_tag": "ABX9TyPnDirQ36XeFK/8RAf8kFb+",
      "include_colab_link": true
    },
    "kernelspec": {
      "name": "python3",
      "display_name": "Python 3"
    }
  },
  "cells": [
    {
      "cell_type": "markdown",
      "metadata": {
        "id": "view-in-github",
        "colab_type": "text"
      },
      "source": [
        "<a href=\"https://colab.research.google.com/github/DanimarCosta/Backup_Python/blob/main/Enem.ipynb\" target=\"_parent\"><img src=\"https://colab.research.google.com/assets/colab-badge.svg\" alt=\"Open In Colab\"/></a>"
      ]
    },
    {
      "cell_type": "code",
      "metadata": {
        "id": "UxfNIL0Oy8xb",
        "colab": {
          "base_uri": "https://localhost:8080/",
          "height": 665
        },
        "outputId": "6d42b999-028b-4e1e-dc86-fd37352d205f"
      },
      "source": [
        "import matplotlib.pyplot as plt\n",
        "import numpy as np\n",
        "import pandas as pd\n",
        "\n",
        "# Importando o arquivo e transformando em um data frame \n",
        "database = pd.read_csv(\n",
        "\"https://docs.google.com/spreadsheets/d/e/2PACX-1vTXV5RIG8L_r46KHNGq9i_zc6zep-rlDkUGTRSBga0ZESGbJQS4tBibW_5fGAoi1b_qPgAgVx0TRPYS/pub?output=csv\", sep=',', encoding='utf8')\n",
        " \n",
        "# Filtro de dados\n",
        "# Dados Joinville\n",
        "arquivos = pd.DataFrame(database)\n",
        "arquivos.set_index(\"NO_MUNICIPIO_RESIDENCIA\")\n",
        "redacao_media_estado = database.NU_NOTA_REDACAO.mean()\n",
        " \n",
        "Joinville = arquivos[\n",
        "  (arquivos[\"NO_MUNICIPIO_RESIDENCIA\"] == \"Joinville\")\n",
        "  &\n",
        "  (arquivos[\"NU_NOTA_REDACAO\"] > 100)\n",
        "  &\n",
        "  (arquivos[\"TP_SEXO\"] == \"F\")\n",
        "  &\n",
        "  (arquivos[\"NU_IDADE\"] < 20)\n",
        "]\n",
        " \n",
        "Joinville.set_index(\"NO_MUNICIPIO_RESIDENCIA\")\n",
        "redacao_Joinville = Joinville.NU_NOTA_REDACAO.mean()\n",
        " \n",
        "# Dados Blumenau\n",
        "Blumenau = arquivos[\n",
        "  (arquivos[\"NO_MUNICIPIO_RESIDENCIA\"] == \"Blumenau\")\n",
        "  &\n",
        "  (arquivos[\"NU_NOTA_REDACAO\"] > 100)\n",
        "  &\n",
        "  (arquivos[\"TP_SEXO\"] == \"F\")\n",
        "  &\n",
        "  (arquivos[\"NU_IDADE\"] < 20)\n",
        "]\n",
        "Blumenau.set_index(\"NO_MUNICIPIO_RESIDENCIA\")\n",
        "redacao_Blumenau = Blumenau.NU_NOTA_REDACAO.mean()\n",
        " \n",
        "# Comparacao dos dados\n",
        "if redacao_Blumenau > redacao_Joinville:\n",
        "  cidade_maior_nota = \"Blumenau\"\n",
        "  pontuacao = redacao_Blumenau\n",
        "  sub = redacao_Blumenau - redacao_Joinville\n",
        "else:\n",
        "  cidade_maior_nota = \"Joinville\"\n",
        "  pontuacao =  redacao_Joinville\n",
        "  sub = redacao_Joinville - redacao_Blumenau\n",
        " \n",
        "# Limita as casas decimais, importante para a visualizacao mais clara dos dados\n",
        "sub = round(sub, 2)\n",
        "pontuacao = round(pontuacao, 2)\n",
        " \n",
        "print(\"A hipotese é de que o sexo feminino com menos de 20 anos de idade, na cidade de\", cidade_maior_nota, \"possuem a maior nota em redação, uma media de\", pontuacao, \"Pts\")\n",
        "print(\"A vantagem da cidade de\", cidade_maior_nota, \"foi de\", sub, \"Pts em relacao a outra cidade.\")\n",
        " \n",
        "# MatPlotLib - Cria um grafico \n",
        "plt.plot( [redacao_Blumenau, redacao_Joinville], color=\"blue\" )\n",
        "plt.title(\"Comparacao das Notas\")\n",
        "plt.xlabel(\"Blumenau x Joinville\")\n",
        "plt.ylabel(\"Pontuacao\")\n",
        " \n",
        "# Salva o grafico em um arquivo\n",
        "plt.savefig(\"Grafico_Redacao\") \n",
        "plt.show()\n",
        " \n",
        "# ----------------------------------------------------------------Comparacao de regioes-------------------------------------------------------------------\n",
        "# ---Regiao Sul---\n",
        "Laguna = arquivos[\n",
        "  (arquivos[\"NO_MUNICIPIO_RESIDENCIA\"] == \"Laguna\")\n",
        "  &\n",
        "  (arquivos[\"NU_NOTA_REDACAO\"] > 100)\n",
        "  &\n",
        "  (arquivos[\"NU_IDADE\"] < 25)\n",
        "]\n",
        " \n",
        "Orleans = arquivos[\n",
        "  (arquivos[\"NO_MUNICIPIO_RESIDENCIA\"] == \"Orleans\")\n",
        "  &\n",
        "  (arquivos[\"NU_NOTA_REDACAO\"] > 100)\n",
        "  &\n",
        "  (arquivos[\"NU_IDADE\"] < 25)\n",
        "]\n",
        " \n",
        "Laguna.set_index(\"NO_MUNICIPIO_RESIDENCIA\")\n",
        "Orleans.set_index(\"NO_MUNICIPIO_RESIDENCIA\")\n",
        "redacao_Laguna = Laguna.NU_NOTA_REDACAO.mean()\n",
        "redacao_Orleans = Orleans.NU_NOTA_REDACAO.mean()\n",
        " \n",
        "redacao_Sul = (redacao_Laguna + redacao_Orleans) / 2 # Calcula a media das cidades selecionadas do Sul de Santa Catarina\n",
        " \n",
        "# ---Regiao do Vale---\n",
        "Pomerode = arquivos[\n",
        "  (arquivos[\"NO_MUNICIPIO_RESIDENCIA\"] == \"Pomerode\")\n",
        "  &\n",
        "  (arquivos[\"NU_NOTA_REDACAO\"] > 100)\n",
        "  &\n",
        "  (arquivos[\"NU_IDADE\"] < 25)\n",
        "]\n",
        " \n",
        "Brusque = arquivos[\n",
        "  (arquivos[\"NO_MUNICIPIO_RESIDENCIA\"] == \"Brusque\")\n",
        "  &\n",
        "  (arquivos[\"NU_NOTA_REDACAO\"] > 100)\n",
        "  &\n",
        "  (arquivos[\"NU_IDADE\"] < 25)\n",
        "]\n",
        " \n",
        "Brusque.set_index(\"NO_MUNICIPIO_RESIDENCIA\")\n",
        "Pomerode.set_index(\"NO_MUNICIPIO_RESIDENCIA\")\n",
        "redacao_Pomerode = Pomerode.NU_NOTA_REDACAO.mean()\n",
        "redacao_Brusque = Brusque.NU_NOTA_REDACAO.mean()\n",
        " \n",
        "redacao_Vale = (redacao_Pomerode + redacao_Brusque) / 2 # Calcula a media das cidades selecionadas do Sul de Santa Catarina\n",
        "redacao_regioes = (redacao_Vale + redacao_Sul) / 2\n",
        "redacao_regioes = round(redacao_regioes, 2)\n",
        " \n",
        "if redacao_regioes > redacao_media_estado:\n",
        "  pontuacao = redacao_regioes - redacao_media_estado\n",
        "  pontuacao = round(pontuacao, 2)\n",
        "  print(\"A hipotese de que as regioes sul e do vale tiveram um desempenho maior do que a media do estado sao verdadeiras, a media foi de\", redacao_regioes, \"Pts\")\n",
        "  print(\"Uma vantagem de\", pontuacao, \"Pts em relacao ao estado.\")\n",
        " \n",
        "else:\n",
        "  pontuacao = redacao_media_estado - redacao_regioes\n",
        "  pontuacao = round(pontuacao, 2)\n",
        "  print(\"A hipotese de que as regioes sul e do vale Catarinense tiveram um desempenho maior do que a media do estado sao Falsas, a media foi de\", redacao_regioes, \"Pts\")\n",
        "  print(\"Uma desvantagem de\", pontuacao, \"Pts em relacao ao estado.\") \n",
        " \n",
        "# MatplotLib - Cria um grafico\n",
        "plt.plot( [redacao_Sul, redacao_Vale, redacao_media_estado], color=\"red\" )\n",
        "plt.title(\"Desempenho das regioes em relacao ao estado\")\n",
        "plt.xlabel(\"Regiao Sul X Regiao do Vale X Media do Estado\")\n",
        "plt.ylabel(\"Pontuacao\")\n",
        " \n",
        "# Salva o grafico em um arquivo\n",
        "plt.savefig(\"Grafico_Redacao_regioes\") \n",
        "plt.show()"
      ],
      "execution_count": 8,
      "outputs": [
        {
          "output_type": "stream",
          "name": "stdout",
          "text": [
            "A hipotese é de que o sexo feminino com menos de 20 anos de idade, na cidade de Joinville possuem a maior nota em redação, uma media de 646.24 Pts\n",
            "A vantagem da cidade de Joinville foi de 21.76 Pts em relacao a outra cidade.\n"
          ]
        },
        {
          "output_type": "display_data",
          "data": {
            "image/png": "[encoded data removed]",
            "text/plain": [
              "<Figure size 432x288 with 1 Axes>"
            ]
          },
          "metadata": {
            "needs_background": "light"
          }
        },
        {
          "output_type": "stream",
          "name": "stdout",
          "text": [
            "A hipotese de que as regioes sul e do vale tiveram um desempenho maior do que a media do estado sao verdadeiras, a media foi de 602.79 Pts\n",
            "Uma vantagem de 24.78 Pts em relacao ao estado.\n"
          ]
        },
        {
          "output_type": "display_data",
          "data": {
            "image/png": "[encoded data removed]",
            "text/plain": [
              "<Figure size 432x288 with 1 Axes>"
            ]
          },
          "metadata": {
            "needs_background": "light"
          }
        }
      ]
    }
  ]
}
